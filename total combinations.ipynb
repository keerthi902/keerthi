{
 "cells": [
  {
   "cell_type": "code",
   "execution_count": 1,
   "id": "4a66e069",
   "metadata": {},
   "outputs": [
    {
     "name": "stdout",
     "output_type": "stream",
     "text": [
      "[(1, 1), (1, 2), (1, 3), (1, 4), (1, 5), (1, 6), (2, 1), (2, 2), (2, 3), (2, 4), (2, 5), (2, 6), (3, 1), (3, 2), (3, 3), (3, 4), (3, 5), (3, 6), (4, 1), (4, 2), (4, 3), (4, 4), (4, 5), (4, 6), (5, 1), (5, 2), (5, 3), (5, 4), (5, 5), (5, 6), (6, 1), (6, 2), (6, 3), (6, 4), (6, 5), (6, 6)]\n",
      "The number of combinations is: 36\n"
     ]
    }
   ],
   "source": [
    "def dice_combinations(k):\n",
    "   \n",
    "    res = [(i,) for i in range(1, 7)]\n",
    "     \n",
    "    for i in range(1, k):\n",
    "        new_res = []\n",
    "         \n",
    "        for comb in res:\n",
    "           \n",
    "            for j in range(1, 7):\n",
    "                new_res.append(comb + (j,))\n",
    "        res = new_res\n",
    "         \n",
    "    return res\n",
    " \n",
    " \n",
    "k = 2\n",
    " \n",
    "print(dice_combinations(k))\n",
    "\n",
    "print(\"The number of combinations is:\", len(dice_combinations(k)))\n"
   ]
  },
  {
   "cell_type": "code",
   "execution_count": null,
   "id": "d26484fc",
   "metadata": {},
   "outputs": [],
   "source": []
  }
 ],
 "metadata": {
  "kernelspec": {
   "display_name": "Python 3 (ipykernel)",
   "language": "python",
   "name": "python3"
  },
  "language_info": {
   "codemirror_mode": {
    "name": "ipython",
    "version": 3
   },
   "file_extension": ".py",
   "mimetype": "text/x-python",
   "name": "python",
   "nbconvert_exporter": "python",
   "pygments_lexer": "ipython3",
   "version": "3.9.7"
  }
 },
 "nbformat": 4,
 "nbformat_minor": 5
}
