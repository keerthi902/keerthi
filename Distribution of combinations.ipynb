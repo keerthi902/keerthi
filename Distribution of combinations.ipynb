{
 "cells": [
  {
   "cell_type": "code",
   "execution_count": 1,
   "id": "758fea6f",
   "metadata": {},
   "outputs": [
    {
     "name": "stdout",
     "output_type": "stream",
     "text": [
      "[1, 1]\t[1, 2]\t[1, 3]\t[1, 4]\t[1, 5]\t[1, 6]\t\n",
      "[2, 1]\t[2, 2]\t[2, 3]\t[2, 4]\t[2, 5]\t[2, 6]\t\n",
      "[3, 1]\t[3, 2]\t[3, 3]\t[3, 4]\t[3, 5]\t[3, 6]\t\n",
      "[4, 1]\t[4, 2]\t[4, 3]\t[4, 4]\t[4, 5]\t[4, 6]\t\n",
      "[5, 1]\t[5, 2]\t[5, 3]\t[5, 4]\t[5, 5]\t[5, 6]\t\n",
      "[6, 1]\t[6, 2]\t[6, 3]\t[6, 4]\t[6, 5]\t[6, 6]\t\n"
     ]
    }
   ],
   "source": [
    "A = [1, 2, 3, 4, 5, 6]\n",
    "B = [1, 2, 3, 4, 5, 6]\n",
    "\n",
    "for i in range(6):\n",
    "    for j in range(6):\n",
    "        print(f\"[{A[i]}, {B[j]}]\\t\", end=\"\")\n",
    "    print()  \n"
   ]
  },
  {
   "cell_type": "code",
   "execution_count": null,
   "id": "62be0dd7",
   "metadata": {},
   "outputs": [],
   "source": []
  }
 ],
 "metadata": {
  "kernelspec": {
   "display_name": "Python 3 (ipykernel)",
   "language": "python",
   "name": "python3"
  },
  "language_info": {
   "codemirror_mode": {
    "name": "ipython",
    "version": 3
   },
   "file_extension": ".py",
   "mimetype": "text/x-python",
   "name": "python",
   "nbconvert_exporter": "python",
   "pygments_lexer": "ipython3",
   "version": "3.9.7"
  }
 },
 "nbformat": 4,
 "nbformat_minor": 5
}
