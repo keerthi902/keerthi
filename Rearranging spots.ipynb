{
 "cells": [
  {
   "cell_type": "code",
   "execution_count": 1,
   "id": "bbbd0bb5",
   "metadata": {},
   "outputs": [
    {
     "name": "stdout",
     "output_type": "stream",
     "text": [
      "New Die A: [1, 2, 3, 4, 3, 2]\n",
      "New Die B: [1, 2, 3, 4, 5, 6]\n"
     ]
    }
   ],
   "source": [
    "def undoom_dice(die_a, die_b):\n",
    "    new_die_a = die_a.copy()\n",
    "\n",
    "   \n",
    "    for i in range(len(new_die_a)):\n",
    "        if new_die_a[i] > 4:\n",
    "            \n",
    "            new_die_a[i] = 8 - new_die_a[i]\n",
    "\n",
    "    return new_die_a\n",
    "\n",
    "\n",
    "\n",
    "die_a = [1, 2, 3, 4, 5, 6]\n",
    "die_b = die_a.copy()\n",
    "\n",
    "new_die_a = undoom_dice(die_a, die_b)\n",
    "\n",
    "print(\"New Die A:\", new_die_a)\n",
    "print(\"New Die B:\", die_b)\n",
    "\n"
   ]
  },
  {
   "cell_type": "code",
   "execution_count": null,
   "id": "7413b27c",
   "metadata": {},
   "outputs": [],
   "source": []
  }
 ],
 "metadata": {
  "kernelspec": {
   "display_name": "Python 3 (ipykernel)",
   "language": "python",
   "name": "python3"
  },
  "language_info": {
   "codemirror_mode": {
    "name": "ipython",
    "version": 3
   },
   "file_extension": ".py",
   "mimetype": "text/x-python",
   "name": "python",
   "nbconvert_exporter": "python",
   "pygments_lexer": "ipython3",
   "version": "3.9.7"
  }
 },
 "nbformat": 4,
 "nbformat_minor": 5
}
