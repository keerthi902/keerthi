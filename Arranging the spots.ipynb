{
 "cells": [
  {
   "cell_type": "code",
   "execution_count": 9,
   "id": "265e5c2b",
   "metadata": {},
   "outputs": [
    {
     "name": "stdout",
     "output_type": "stream",
     "text": [
      "New Die A is: 1 2 3 4 2 3\n",
      "New Die B is: 1 3 4 5 6 8\n"
     ]
    }
   ],
   "source": [
    "dieA = [1, 2, 3, 4, 0, 0]\n",
    "dieB = [1, 3, 4, 5, 6, 0]\n",
    "\n",
    "target = {\n",
    "    2: 1, 3: 2, 4: 3, 5: 4, 6: 5, 7: 6, 8: 5, 9: 4, 10: 3, 11: 2, 12: 1\n",
    "}\n",
    "\n",
    "found_solution = False\n",
    "\n",
    "def validate_cur_combination():\n",
    "    cur = {}\n",
    "    for i in range(6):\n",
    "        for j in range(6):\n",
    "            cur[dieA[i] + dieB[j]] = cur.get(dieA[i] + dieB[j], 0) + 1\n",
    "    return target == cur\n",
    "\n",
    "def print_die():\n",
    "    print(\"New Die A is:\", *dieA)\n",
    "    print(\"New Die B is:\", *dieB)\n",
    "\n",
    "def backtrack(curA, curB):\n",
    "    global found_solution\n",
    "    if curA == 6 and curB == 6:\n",
    "        if validate_cur_combination() and not found_solution:\n",
    "            print_die()\n",
    "            found_solution = True\n",
    "        return\n",
    "\n",
    "    for curAHit in range(1, 5):\n",
    "        for curBHit in range(1, 12):\n",
    "            dieA[curA] = curAHit\n",
    "            dieB[curB] = curBHit\n",
    "            backtrack(curA + 1, curB + 1)\n",
    "\n",
    "if __name__ == \"__main__\":\n",
    "    backtrack(4, 4)"
   ]
  },
  {
   "cell_type": "code",
   "execution_count": null,
   "id": "1d100df8",
   "metadata": {},
   "outputs": [],
   "source": []
  }
 ],
 "metadata": {
  "kernelspec": {
   "display_name": "Python 3 (ipykernel)",
   "language": "python",
   "name": "python3"
  },
  "language_info": {
   "codemirror_mode": {
    "name": "ipython",
    "version": 3
   },
   "file_extension": ".py",
   "mimetype": "text/x-python",
   "name": "python",
   "nbconvert_exporter": "python",
   "pygments_lexer": "ipython3",
   "version": "3.9.7"
  }
 },
 "nbformat": 4,
 "nbformat_minor": 5
}
