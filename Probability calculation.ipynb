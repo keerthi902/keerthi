{
 "cells": [
  {
   "cell_type": "code",
   "execution_count": 1,
   "id": "6deb6619",
   "metadata": {},
   "outputs": [
    {
     "name": "stdout",
     "output_type": "stream",
     "text": [
      "P(Sum = 2) = 0.0278\n",
      "P(Sum = 3) = 0.0556\n",
      "P(Sum = 4) = 0.0833\n",
      "P(Sum = 5) = 0.1111\n",
      "P(Sum = 6) = 0.1389\n",
      "P(Sum = 7) = 0.1667\n",
      "P(Sum = 8) = 0.1389\n",
      "P(Sum = 9) = 0.1111\n",
      "P(Sum = 10) = 0.0833\n",
      "P(Sum = 11) = 0.0556\n",
      "P(Sum = 12) = 0.0278\n"
     ]
    }
   ],
   "source": [
    "\n",
    "def calculate_probabilities(DieA, DieB):\n",
    "    outcomes = [(a + b) for a in DieA for b in DieB]\n",
    "    total_combinations = len(outcomes)\n",
    "    \n",
    "    probabilities = {}\n",
    "\n",
    "    for total in outcomes:\n",
    "        probabilities[total] = probabilities.get(total, 0) + 1\n",
    "\n",
    "    for key in probabilities:\n",
    "        probabilities[key] /= total_combinations\n",
    "\n",
    "    return probabilities\n",
    "\n",
    "DieA = [1, 2, 3, 4, 5, 6]\n",
    "DieB = [1, 2, 3, 4, 5, 6]\n",
    "\n",
    "probabilities = calculate_probabilities(DieA, DieB)\n",
    "\n",
    "for key, value in probabilities.items():\n",
    "    print(f\"P(Sum = {key}) = {value:.4f}\")\n"
   ]
  },
  {
   "cell_type": "code",
   "execution_count": null,
   "id": "bfcc5c39",
   "metadata": {},
   "outputs": [],
   "source": []
  }
 ],
 "metadata": {
  "kernelspec": {
   "display_name": "Python 3 (ipykernel)",
   "language": "python",
   "name": "python3"
  },
  "language_info": {
   "codemirror_mode": {
    "name": "ipython",
    "version": 3
   },
   "file_extension": ".py",
   "mimetype": "text/x-python",
   "name": "python",
   "nbconvert_exporter": "python",
   "pygments_lexer": "ipython3",
   "version": "3.9.7"
  }
 },
 "nbformat": 4,
 "nbformat_minor": 5
}
